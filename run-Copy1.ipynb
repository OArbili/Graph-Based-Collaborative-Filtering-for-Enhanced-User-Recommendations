{
 "cells": [
  {
   "cell_type": "code",
   "execution_count": 6,
   "id": "591d753d-53e4-4231-bbb7-a92bde6ccf42",
   "metadata": {},
   "outputs": [],
   "source": [
    "!python src/run.py --config_file ./configs/amazonbooks_m1-100-pre.ini"
   ]
  },
  {
   "cell_type": "code",
   "execution_count": null,
   "id": "0d12f89f-1a48-40cb-bdec-406dff2f3a88",
   "metadata": {},
   "outputs": [
    {
     "name": "stdout",
     "output_type": "stream",
     "text": [
      "started\n",
      "###################### MultiAspectGraph ######################\n",
      "./configs/amazonbooks_m1-100-pre.ini\n",
      "load path = prebuilds/amazon_ii_constraint_mat object\n",
      "load path = prebuilds/amazon_ii_neighbor_mat object\n",
      "Load Configuration OK, show them below\n",
      "Configuration:\n",
      "{'embedding_dim': 64, 'ii_neighbor_num': 10, 'model_save_path': './amazon.pt', 'max_epoch': 2000, 'enable_tensorboard': True, 'initial_weight': 0.0001, 'dataset': 'amazon', 'gpu': '0', 'device': device(type='cuda'), 'lr': 0.001, 'batch_size': 1024, 'early_stop_epoch': 15, 'w1': 1e-08, 'w2': 1.0, 'w3': 1.0, 'w4': 1e-08, 'negative_num': 100, 'negative_weight': 100.0, 'gamma': 0.0001, 'lambda': 2.75, 'sampling_sift_pos': False, 'test_batch_size': 2048, 'topk': 20, 'user_num': 52643, 'item_num': 91599}\n",
      "start load weight\n",
      "torch.Size([52643, 64])\n",
      "torch.Size([91599, 64])\n",
      "end load weight\n",
      "cuda\n",
      "Using device: cuda\n",
      "Total training batches = 2325\n",
      " 17%|██████▉                                 | 403/2325 [00:43<02:56, 10.91it/s]"
     ]
    }
   ],
   "source": [
    "!/home/arbili/.conda/envs/gnn2025/bin/python src/run.py --config_file ./configs/amazonbooks_m1-100-pre.ini"
   ]
  },
  {
   "cell_type": "code",
   "execution_count": null,
   "id": "cb0097c4-8113-4173-aaf0-3ea3ce105d59",
   "metadata": {},
   "outputs": [],
   "source": []
  }
 ],
 "metadata": {
  "kernelspec": {
   "display_name": "gnn2025",
   "language": "python",
   "name": "gnn2025"
  },
  "language_info": {
   "codemirror_mode": {
    "name": "ipython",
    "version": 3
   },
   "file_extension": ".py",
   "mimetype": "text/x-python",
   "name": "python",
   "nbconvert_exporter": "python",
   "pygments_lexer": "ipython3",
   "version": "3.13.1"
  }
 },
 "nbformat": 4,
 "nbformat_minor": 5
}
